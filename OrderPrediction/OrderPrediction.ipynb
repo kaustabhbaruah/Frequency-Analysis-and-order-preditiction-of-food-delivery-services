{
  "cells": [
    {
      "cell_type": "code",
      "execution_count": null,
      "metadata": {
        "id": "191ustZDB6b4"
      },
      "outputs": [],
      "source": [
        "import pandas as pd\n",
        "import numpy as np"
      ]
    },
    {
      "cell_type": "code",
      "execution_count": null,
      "metadata": {
        "id": "WLCGD_4BCTaS"
      },
      "outputs": [],
      "source": [
        "df=pd.read_excel('/content/Dataset for training final.xlsx')"
      ]
    },
    {
      "cell_type": "code",
      "execution_count": null,
      "metadata": {
        "id": "G6xZLcZyLGcC"
      },
      "outputs": [],
      "source": [
        "df.dropna(inplace=True)"
      ]
    },
    {
      "cell_type": "code",
      "execution_count": null,
      "metadata": {
        "id": "ogmlJEN5M9iH"
      },
      "outputs": [],
      "source": [
        "df.drop(['Name', 'Preferred time of order '], axis=1, inplace=True)"
      ]
    },
    {
      "cell_type": "code",
      "execution_count": null,
      "metadata": {
        "id": "870dQZQQItJw"
      },
      "outputs": [],
      "source": [
        "df=df.astype('int')"
      ]
    },
    {
      "cell_type": "code",
      "execution_count": null,
      "metadata": {
        "colab": {
          "base_uri": "https://localhost:8080/",
          "height": 417
        },
        "id": "qRsCjLxyCXpw",
        "outputId": "29382c86-1d89-474a-e4ff-49d4ba922e5c"
      },
      "outputs": [],
      "source": [
        "df"
      ]
    },
    {
      "cell_type": "code",
      "execution_count": null,
      "metadata": {
        "colab": {
          "base_uri": "https://localhost:8080/",
          "height": 295
        },
        "id": "FA-a-OXsCYYQ",
        "outputId": "3da13491-e72d-496d-b731-7157f9d7ab87"
      },
      "outputs": [],
      "source": [
        "df.describe()"
      ]
    },
    {
      "cell_type": "code",
      "execution_count": null,
      "metadata": {
        "colab": {
          "base_uri": "https://localhost:8080/",
          "height": 275
        },
        "id": "U9ZHQlEyDV0A",
        "outputId": "7fcc8402-50aa-4b65-88dd-61b3a0ac11e2"
      },
      "outputs": [],
      "source": [
        "df.plot.scatter('Age', 'Gender', c='Prediction')"
      ]
    },
    {
      "cell_type": "code",
      "execution_count": null,
      "metadata": {
        "colab": {
          "base_uri": "https://localhost:8080/",
          "height": 296
        },
        "id": "58dG3Ct0Dfcw",
        "outputId": "7adbe142-c935-48a3-d729-f06ddf021959"
      },
      "outputs": [],
      "source": [
        "df.plot('Frequency', 'Gender', kind='scatter')"
      ]
    },
    {
      "cell_type": "code",
      "execution_count": null,
      "metadata": {
        "colab": {
          "base_uri": "https://localhost:8080/",
          "height": 296
        },
        "id": "6bVi1k6qEOkb",
        "outputId": "01f91ee5-c43c-42e5-dfd6-78bb0f0ee398"
      },
      "outputs": [],
      "source": [
        "df.plot('Gender', 'Prediction', kind='scatter')"
      ]
    },
    {
      "cell_type": "code",
      "execution_count": null,
      "metadata": {
        "colab": {
          "base_uri": "https://localhost:8080/",
          "height": 172
        },
        "id": "TONBhiv5ErAg",
        "outputId": "8b07e54e-6fdc-4280-f5b1-5db430c7b391"
      },
      "outputs": [],
      "source": [
        "df.corr()"
      ]
    },
    {
      "cell_type": "code",
      "execution_count": null,
      "metadata": {
        "id": "1GFwH0TzFAqw"
      },
      "outputs": [],
      "source": [
        "from sklearn.linear_model import LogisticRegression"
      ]
    },
    {
      "cell_type": "code",
      "execution_count": null,
      "metadata": {
        "id": "OkqyL_AJGw2g"
      },
      "outputs": [],
      "source": [
        "from sklearn.model_selection import train_test_split"
      ]
    },
    {
      "cell_type": "code",
      "execution_count": null,
      "metadata": {
        "id": "4-Y5irVYHGGK"
      },
      "outputs": [],
      "source": [
        "X=df.iloc[:,:3]\n",
        "Y=df.iloc[:,-1]"
      ]
    },
    {
      "cell_type": "code",
      "execution_count": null,
      "metadata": {
        "id": "7V8OkqsEG5SA"
      },
      "outputs": [],
      "source": [
        "train_X, test_X, train_Y, test_Y = train_test_split(X,Y, test_size=0.3)"
      ]
    },
    {
      "cell_type": "code",
      "execution_count": null,
      "metadata": {
        "colab": {
          "base_uri": "https://localhost:8080/"
        },
        "id": "JHxe802LHcdg",
        "outputId": "89392338-0351-4d5a-d8b7-bf18be82bc4e"
      },
      "outputs": [],
      "source": [
        "clf = LogisticRegression()\n",
        "clf.fit(train_X, train_Y)"
      ]
    },
    {
      "cell_type": "code",
      "execution_count": null,
      "metadata": {
        "id": "8D5HJWh7HsC_"
      },
      "outputs": [],
      "source": [
        "preds = clf.predict(test_X)"
      ]
    },
    {
      "cell_type": "code",
      "execution_count": null,
      "metadata": {
        "colab": {
          "base_uri": "https://localhost:8080/"
        },
        "id": "cGBoT0viLWzq",
        "outputId": "f9beab28-36c5-42c2-be4f-c2301422bc9f"
      },
      "outputs": [],
      "source": [
        "from sklearn.metrics import accuracy_score, precision_score, recall_score\n",
        "print(accuracy_score(test_Y, preds))"
      ]
    },
    {
      "cell_type": "code",
      "execution_count": null,
      "metadata": {
        "colab": {
          "base_uri": "https://localhost:8080/"
        },
        "id": "2g7JMj-kM7ha",
        "outputId": "74aed425-d33a-4c46-a833-1605b5d911d9"
      },
      "outputs": [],
      "source": [
        "print(precision_score(test_Y, preds))"
      ]
    },
    {
      "cell_type": "code",
      "execution_count": null,
      "metadata": {
        "colab": {
          "base_uri": "https://localhost:8080/"
        },
        "id": "bqF_5A99M7nU",
        "outputId": "5c6cb0a6-8312-42b6-8a62-e5b71ae502ac"
      },
      "outputs": [],
      "source": [
        "print(recall_score(test_Y, preds))"
      ]
    },
    {
      "cell_type": "code",
      "execution_count": null,
      "metadata": {
        "id": "UfEUQ1C4Lta0"
      },
      "outputs": [],
      "source": [
        "import pickle\n",
        "filename = 'model.pkl'\n",
        "pickle.dump(clf, open(filename, 'wb'))"
      ]
    },
    {
      "cell_type": "code",
      "execution_count": null,
      "metadata": {
        "id": "-9FzCDNRK07A"
      },
      "outputs": [],
      "source": [
        "loaded_model = pickle.load(open(filename, 'rb'))"
      ]
    },
    {
      "cell_type": "code",
      "execution_count": null,
      "metadata": {
        "colab": {
          "base_uri": "https://localhost:8080/"
        },
        "id": "9RJpYCblNDvr",
        "outputId": "425253c9-ca8b-498e-ad24-8d3b9680b15d"
      },
      "outputs": [],
      "source": [
        "X= np.array([56,0,2]).reshape(1,-1)\n",
        "#X=np.reshape(-1,1)\n",
        "#new_df = pd.DataFrame(X[])\n",
        "loaded_model.predict(X)"
      ]
    },
    {
      "cell_type": "code",
      "execution_count": null,
      "metadata": {
        "colab": {
          "base_uri": "https://localhost:8080/"
        },
        "id": "FfilDh2LNNoB",
        "outputId": "d5d383d1-c09d-4710-cf92-6a58a83598d0"
      },
      "outputs": [],
      "source": [
        "X= np.array([21,1,2]).reshape(1,-1)\n",
        "#X=np.reshape(-1,1)\n",
        "#new_df = pd.DataFrame(X[])\n",
        "out = loaded_model.predict(X)\n",
        "print(out)"
      ]
    },
    {
      "cell_type": "code",
      "execution_count": null,
      "metadata": {
        "id": "racXgsQ5NNuS"
      },
      "outputs": [],
      "source": []
    }
  ],
  "metadata": {
    "colab": {
      "name": "OrderPrediction.ipynb",
      "provenance": []
    },
    "kernelspec": {
      "display_name": "Python 3",
      "language": "python",
      "name": "python3"
    },
    "language_info": {
      "name": "python",
      "version": "3.10.4 (tags/v3.10.4:9d38120, Mar 23 2022, 23:13:41) [MSC v.1929 64 bit (AMD64)]"
    },
    "vscode": {
      "interpreter": {
        "hash": "369f2c481f4da34e4445cda3fffd2e751bd1c4d706f27375911949ba6bb62e1c"
      }
    }
  },
  "nbformat": 4,
  "nbformat_minor": 0
}
